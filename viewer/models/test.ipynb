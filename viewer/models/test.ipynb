{
 "cells": [
  {
   "cell_type": "code",
   "execution_count": 2,
   "metadata": {},
   "outputs": [],
   "source": [
    "import plyfile\n",
    "from plyfile import PlyData, PlyElement\n",
    "\n",
    "# Lire le fichier PLY en mode ASCII\n",
    "plydata = PlyData.read('ashe.ply')\n",
    "\n",
    "# Modifier le format pour `binary_little_endian 1.0`\n",
    "plydata.text = False\n",
    "plydata.byte_order = '<'  # '<' signifie little-endian\n",
    "\n",
    "# Écrire le fichier PLY en mode binaire\n",
    "with open('ashe.ply', 'wb') as f:\n",
    "    plydata.write(f)\n"
   ]
  }
 ],
 "metadata": {
  "kernelspec": {
   "display_name": "Python 3",
   "language": "python",
   "name": "python3"
  },
  "language_info": {
   "codemirror_mode": {
    "name": "ipython",
    "version": 3
   },
   "file_extension": ".py",
   "mimetype": "text/x-python",
   "name": "python",
   "nbconvert_exporter": "python",
   "pygments_lexer": "ipython3",
   "version": "3.10.12"
  }
 },
 "nbformat": 4,
 "nbformat_minor": 2
}
